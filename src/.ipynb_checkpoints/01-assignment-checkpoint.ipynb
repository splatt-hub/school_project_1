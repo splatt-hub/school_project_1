{
 "cells": [
  {
   "cell_type": "markdown",
   "id": "c2d747fe-7b74-43e0-95b3-16525e9846ac",
   "metadata": {},
   "source": [
    "## Task 1"
   ]
  },
  {
   "cell_type": "markdown",
   "id": "7936dff7",
   "metadata": {},
   "source": [
    "Написать код, который будет решать квадратное уравнение вида\n",
    "$ ax^2 + bx + c = 0, a\\neq0$. \\\n",
    "Для этого понадобится найти дискриминант. Его формула $ D = b^2 − 4ac $"
   ]
  },
  {
   "cell_type": "markdown",
   "id": "20bf557b-21f9-46fa-b8db-76b7a96526f4",
   "metadata": {},
   "source": [
    "Формула нахождения корней квадратного уравнения на языке LaTeX\n",
    "\n",
    "$$ x = \\frac{-b \\pm \\sqrt{D}} {2a}$$"
   ]
  },
  {
   "cell_type": "markdown",
   "id": "c78b058d-777d-4369-b86d-0c0fc013eba9",
   "metadata": {},
   "source": [
    "Приступаем к написанию функции:\n",
    "- Функция принимает на вход коэффициент a, b, c.\n",
    "- Функция должна возвращать кортеж корней уравнения. \n",
    "- Если корней у уравнения нет, то функция должна вернуть None"
   ]
  },
  {
   "cell_type": "code",
   "execution_count": 9,
   "id": "03b8b371-870b-42cc-8f53-1e8596406894",
   "metadata": {},
   "outputs": [
    {
     "name": "stdout",
     "output_type": "stream",
     "text": [
      "-1.0\n"
     ]
    }
   ],
   "source": [
    "while True:\n",
    "    a = float(input('Введите значение a:'))\n",
    "    if a == 0:\n",
    "        print('a не может быть равно 0')\n",
    "        continue\n",
    "    break\n",
    "b = float(input('Введите значение b:'))\n",
    "c = float(input('Введите значение c:'))\n",
    "\n",
    "\n",
    "def quadratic_equation(a, b, c):\n",
    "    discr = b ** 2 - 4 * a * c\n",
    "    if discr > 0:\n",
    "        return ((((- b - discr ** 0.5) / (2 * a)), (- b + discr ** 0.5) / (2 * a)))\n",
    "    elif discr == 0:\n",
    "        return (- b / (2 * a))\n",
    "    else:\n",
    "        return\n",
    "    \n",
    "\n",
    "print(quadratic_equation(a, b, c))"
   ]
  },
  {
   "cell_type": "markdown",
   "id": "a8541146-f127-4482-b067-279d50975dac",
   "metadata": {},
   "source": [
    "## Task 2"
   ]
  },
  {
   "cell_type": "markdown",
   "id": "816c48be-0963-4bd6-bd86-c8172eb8968e",
   "metadata": {},
   "source": [
    "Функция, которая на вход принимает cписок случайных чисел, а возвращает уже отсортированный методом Пузырька по возрастанию."
   ]
  },
  {
   "cell_type": "code",
   "execution_count": 10,
   "id": "3fbaf6b3-876f-4ecf-9be6-d26181ee3a48",
   "metadata": {},
   "outputs": [
    {
     "name": "stdout",
     "output_type": "stream",
     "text": [
      "[46, 57, 59, 62, 66, 76, 86]\n"
     ]
    }
   ],
   "source": [
    "from random import randint\n",
    " \n",
    "count = randint(1, 10)\n",
    "lst = []\n",
    "for i in range(count):\n",
    "    lst.append(randint(0, 99))\n",
    "\n",
    "def bubble_sort(lst):\n",
    "    for i in range (len(lst)):\n",
    "        for j in range (len(lst) - i - 1):\n",
    "            if lst[j] > lst[j + 1]:\n",
    "                lst[j],lst[j + 1] = lst[j + 1], lst[j]\n",
    "                \n",
    "bubble_sort(lst)\n",
    "print(lst)"
   ]
  },
  {
   "cell_type": "markdown",
   "id": "0026496c-03a8-4fcc-907b-dfb8f3fc0efb",
   "metadata": {},
   "source": [
    "## Task 3"
   ]
  },
  {
   "cell_type": "markdown",
   "id": "688251be-39a3-49ed-9993-a5f9b39f430d",
   "metadata": {},
   "source": [
    "Самое часто встречающееся слово в романе \"Война и Мир\" без учета:\n",
    "   * Пунктуации\n",
    "   * Слов **короче четырех** символов \n",
    "   * 'Стоп-слов', которые приведены в файле в stop_words_russian.txt"
   ]
  },
  {
   "cell_type": "code",
   "execution_count": 11,
   "id": "94501d71-ee88-4f78-808d-20e79a5f3707",
   "metadata": {},
   "outputs": [
    {
     "name": "stdout",
     "output_type": "stream",
     "text": [
      "[('пьер', 1401)]\n"
     ]
    }
   ],
   "source": [
    "from collections import Counter\n",
    "\n",
    "with open (r'C:/DS01-0-develop/datasets/war_and_peace.txt', encoding = 'utf - 8') as i:\n",
    "    wap = i.read().lower()\n",
    "\n",
    "with open (r'C:/DS01-0-develop/datasets/stop_words_russian.txt', encoding = 'utf - 8') as i:\n",
    "    swr = i.read().lower()\n",
    "\n",
    "word_list = []\n",
    "\n",
    "for word in wap.split():\n",
    "    clear_word = ''\n",
    "    for letter in word:\n",
    "        if letter.isalpha():\n",
    "            clear_word += letter\n",
    "    if clear_word in swr or len(clear_word) < 4:\n",
    "        continue\n",
    "    \n",
    "    word_list.append(clear_word)\n",
    "\n",
    "print(Counter(word_list).most_common(1))"
   ]
  },
  {
   "cell_type": "markdown",
   "id": "d4b6f922-7a22-4b38-8529-c92994edd38c",
   "metadata": {},
   "source": [
    "## Task 4"
   ]
  },
  {
   "cell_type": "markdown",
   "id": "c2cef602-ab87-47f8-ab2c-e323442b62f7",
   "metadata": {},
   "source": [
    "Функция для расчета числа Фибоначчи с использованием рекурсивной функции."
   ]
  },
  {
   "cell_type": "code",
   "execution_count": 1,
   "id": "ec1c1860-774d-4583-a44b-bdc30492eead",
   "metadata": {},
   "outputs": [
    {
     "name": "stdout",
     "output_type": "stream",
     "text": [
      "196418\n"
     ]
    }
   ],
   "source": [
    "n = int(input('Введите число:'))\n",
    "\n",
    "\n",
    "def fib(a):\n",
    "    if a == 0:\n",
    "        return 0\n",
    "    if a == 1:\n",
    "        return 1\n",
    "    return fib(a-1) + fib(a-2)\n",
    "\n",
    "    \n",
    "print(fib(n))"
   ]
  },
  {
   "cell_type": "markdown",
   "id": "1acc3069-4b1a-4a5c-98e4-055731203d2d",
   "metadata": {},
   "source": [
    "## Task 5"
   ]
  },
  {
   "cell_type": "markdown",
   "id": "944e804e-fb40-4ea2-b931-38b595d3c262",
   "metadata": {},
   "source": [
    "Функция перевода валюты в рубли."
   ]
  },
  {
   "cell_type": "code",
   "execution_count": 13,
   "id": "570cfb71-5cf0-41fc-aae7-cf2b2812eaca",
   "metadata": {},
   "outputs": [
    {
     "name": "stdout",
     "output_type": "stream",
     "text": [
      "4355.55\n"
     ]
    }
   ],
   "source": [
    "import requests\n",
    "import json\n",
    "\n",
    "\n",
    "def convert2RU(currency, value):\n",
    "    link = requests.get ('https://www.cbr-xml-daily.ru/daily_json.js').text\n",
    "    val = json.loads(link)['Valute'][currency]['Value']\n",
    "    return(round(val * value, 2))\n",
    "\n",
    "currency = input('Введите валюту:')\n",
    "value = float(input('Введите количество:'))\n",
    "print(convert2RU(currency, value))"
   ]
  },
  {
   "cell_type": "markdown",
   "id": "fe1396fa-7109-48ad-a255-4d4f622c18a4",
   "metadata": {},
   "source": [
    "## Task 6"
   ]
  },
  {
   "cell_type": "markdown",
   "id": "71315701-39bd-4759-afd9-7bf20486b4f7",
   "metadata": {},
   "source": [
    "Написание проверки на пaлиндром."
   ]
  },
  {
   "cell_type": "markdown",
   "id": "715fd45b-eb76-4eb5-bbd8-a257035fe892",
   "metadata": {},
   "source": [
    "1. На вход функции _isPalindrome_ подается **число** (int). \\\n",
    "Функция возвращает **True**, если число является палидромом и **False** в противном случае. "
   ]
  },
  {
   "cell_type": "code",
   "execution_count": 6,
   "id": "9f48d9c7-c413-47fb-b692-ce5ad8ed9ec1",
   "metadata": {},
   "outputs": [
    {
     "name": "stdout",
     "output_type": "stream",
     "text": [
      "False\n"
     ]
    }
   ],
   "source": [
    "n = int(input('Введите число:'))\n",
    "\n",
    "def isPalindrome(x: int) -> bool:\n",
    "    stroka = str(x)\n",
    "    \n",
    "    return stroka == stroka[::-1]\n",
    "\n",
    "print(isPalindrome(n))"
   ]
  },
  {
   "cell_type": "markdown",
   "id": "e86f6f7c-c3b0-4b92-bb3d-651dcc7d4706",
   "metadata": {},
   "source": [
    "2. Реализация функции без использования перевода числа в строку."
   ]
  },
  {
   "cell_type": "code",
   "execution_count": 15,
   "id": "35cf92fa-04c6-489b-9523-99d78dce4ba1",
   "metadata": {},
   "outputs": [
    {
     "name": "stdout",
     "output_type": "stream",
     "text": [
      "False\n"
     ]
    }
   ],
   "source": [
    "n = int(input('Введите число:'))\n",
    "\n",
    "def isPalindrome(x: int) -> bool:\n",
    "    if x == 0:\n",
    "        return True\n",
    "    if x < 0 or x%10 == 0:\n",
    "        return False\n",
    "    \n",
    "    n = 0\n",
    "    preX = x\n",
    "    \n",
    "    while x > n:\n",
    "        a = x%10 #берем последнюю цифру x\n",
    "        preX = x #пересохраяем текущее значение x\n",
    "        x //= 10 # убираем последнюю цифру x \n",
    "        n = n * 10 + a # добавляем ячейку к n и придавляем значение a\n",
    "    \n",
    "    if x == n or preX == n:\n",
    "        return True\n",
    "    else:\n",
    "        return False\n",
    "    \n",
    "        \n",
    "print(isPalindrome(n))"
   ]
  }
 ],
 "metadata": {
  "kernelspec": {
   "display_name": "Python 3 (ipykernel)",
   "language": "python",
   "name": "python3"
  },
  "language_info": {
   "codemirror_mode": {
    "name": "ipython",
    "version": 3
   },
   "file_extension": ".py",
   "mimetype": "text/x-python",
   "name": "python",
   "nbconvert_exporter": "python",
   "pygments_lexer": "ipython3",
   "version": "3.11.3"
  }
 },
 "nbformat": 4,
 "nbformat_minor": 5
}
